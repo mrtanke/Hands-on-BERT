{
 "cells": [
  {
   "cell_type": "markdown",
   "id": "04034a56-eb2b-4cf2-9ade-06d8f46c376b",
   "metadata": {},
   "source": [
    "# 0. Initialize model and tokenizer"
   ]
  },
  {
   "cell_type": "code",
   "execution_count": 1,
   "id": "2bdf8bfc-4d26-49f6-9a64-39b3649ce8f8",
   "metadata": {},
   "outputs": [],
   "source": [
    "import torch \n",
    "from torch import nn\n",
    "from transformers import BertTokenizer, BertModel\n",
    "\n",
    "model_name = 'bert-base-uncased'\n",
    "\n",
    "tokenizer = BertTokenizer.from_pretrained(model_name)\n",
    "model = BertModel.from_pretrained(model_name, output_hidden_states=True)"
   ]
  },
  {
   "cell_type": "markdown",
   "id": "709791d3-b8d1-417d-a595-d4cf475b544c",
   "metadata": {},
   "source": [
    "# 1. Input\n",
    "\n",
    "- tokenizer: segmentation -> split sentence into tokens (input_ids, token_type, attention_mask) (one token = one number)\n",
    "- embedding: one dimension -> 768 dimension"
   ]
  },
  {
   "cell_type": "code",
   "execution_count": 2,
   "id": "9a85cc8b-2d66-43bb-920a-70f99dd986d0",
   "metadata": {},
   "outputs": [
    {
     "data": {
      "text/plain": [
       "{'input_ids': tensor([[  101,  2044, 11065,  2769,  2013,  1996,  2924, 11632,  1010,  1996,\n",
       "          2924, 27307,  2001,  2464,  5645,  2006,  1996,  5900,  2314,  2924,\n",
       "          1012,   102]]), 'token_type_ids': tensor([[0, 0, 0, 0, 0, 0, 0, 0, 0, 0, 0, 0, 0, 0, 0, 0, 0, 0, 0, 0, 0, 0]]), 'attention_mask': tensor([[1, 1, 1, 1, 1, 1, 1, 1, 1, 1, 1, 1, 1, 1, 1, 1, 1, 1, 1, 1, 1, 1]])}"
      ]
     },
     "execution_count": 2,
     "metadata": {},
     "output_type": "execute_result"
    }
   ],
   "source": [
    "text = \"After stealing money from the bank vault, the bank robber was seen \" \\\n",
    "   \"fishing on the Mississippi river bank.\"\n",
    "\n",
    "token_input = tokenizer(text, return_tensors='pt')\n",
    "token_input"
   ]
  },
  {
   "cell_type": "code",
   "execution_count": 3,
   "id": "b7736625-f463-48f0-9a48-3d0c6644236f",
   "metadata": {},
   "outputs": [
    {
     "data": {
      "text/plain": [
       "(tensor([[  101,  2044, 11065,  2769,  2013,  1996,  2924, 11632,  1010,  1996,\n",
       "           2924, 27307,  2001,  2464,  5645,  2006,  1996,  5900,  2314,  2924,\n",
       "           1012,   102]]),\n",
       " torch.Size([1, 22]))"
      ]
     },
     "execution_count": 3,
     "metadata": {},
     "output_type": "execute_result"
    }
   ],
   "source": [
    "token_input['input_ids'], token_input['input_ids'].shape"
   ]
  },
  {
   "cell_type": "markdown",
   "id": "569efe48-f74d-470a-9e4d-50cdcdd10ab1",
   "metadata": {},
   "source": [
    "-> batch_size = 1, just one sentence, length of sequence is 22 (no truncate and padding)"
   ]
  },
  {
   "cell_type": "markdown",
   "id": "81e26af2-a50d-4af6-bf5d-8924c9b5e92b",
   "metadata": {},
   "source": [
    "# 2. Model forward\n",
    "- forward\n",
    "    - embedding -> encoder -> pooler"
   ]
  },
  {
   "cell_type": "code",
   "execution_count": 22,
   "id": "bfd3e92e-ca8a-4efd-b55f-c1f142f8839d",
   "metadata": {},
   "outputs": [
    {
     "data": {
      "text/plain": [
       "odict_keys(['last_hidden_state', 'pooler_output', 'hidden_states'])"
      ]
     },
     "execution_count": 22,
     "metadata": {},
     "output_type": "execute_result"
    }
   ],
   "source": [
    "model.eval()\n",
    "\n",
    "with torch.no_grad():\n",
    "    output = model(**token_input)\n",
    "\n",
    "output.keys()"
   ]
  },
  {
   "cell_type": "markdown",
   "id": "6ffbe82b-2548-45a9-88d5-7d0e7650753e",
   "metadata": {},
   "source": [
    "# 3. Output\n",
    "\n",
    "- len(outputs) == 3\n",
    "- outputs[0] -> **encoder layer output**\n",
    "    - last_hidden_state, shape:\n",
    "        - batch_size \\* seq_len \\* hidden_size (1 \\* 22 \\* 768)\n",
    "- outputs[1] -> **pooler layer output**\n",
    "    - pooler_output, shape\n",
    "        - batch_size \\* hidden_size(1 \\* 768)\n",
    "    - Last layer hidden-state of the first token of the sequence (classification token, [CLS])\n",
    "- outputs[2] (model.config.output_hidden_states = True)\n",
    "    - type: tuple\n",
    "    - one for the output of the embeddings(1), if the model has an embedding layer(12), + one for the output of each layer(1)\n",
    "    - (1+12) \\* (batch_size \\* seq_len \\* hidden_size) = 13 \\* 1 \\* 22 \\* 768\n",
    "- \n",
    "- outputs[0] == outputs[2][-1]\n",
    "- outputs[1] == model.pooler(outputs[2][-1])\n",
    "- outputs[2][0] == model.embeddings(token_input['input_ids'], token_input['token_type_ids'])"
   ]
  },
  {
   "cell_type": "code",
   "execution_count": 5,
   "id": "ec96ad00-0afb-4e86-8f09-580ff501c511",
   "metadata": {},
   "outputs": [
    {
     "data": {
      "text/plain": [
       "(3, 1, 1)"
      ]
     },
     "execution_count": 5,
     "metadata": {},
     "output_type": "execute_result"
    }
   ],
   "source": [
    "len(output), len(output[0]), len(output[1])"
   ]
  }
 ],
 "metadata": {
  "kernelspec": {
   "display_name": "Python 3.10 (bert)",
   "language": "python",
   "name": "py310"
  },
  "language_info": {
   "codemirror_mode": {
    "name": "ipython",
    "version": 3
   },
   "file_extension": ".py",
   "mimetype": "text/x-python",
   "name": "python",
   "nbconvert_exporter": "python",
   "pygments_lexer": "ipython3",
   "version": "3.10.18"
  }
 },
 "nbformat": 4,
 "nbformat_minor": 5
}
