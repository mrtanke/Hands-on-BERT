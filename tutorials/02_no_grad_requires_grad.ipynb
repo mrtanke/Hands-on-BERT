{
 "cells": [
  {
   "cell_type": "markdown",
   "metadata": {},
   "source": [
    "# torch.no_grad() vs. param.requires_grad\n",
    "\n",
    "- **torch.no_grad()** -> close modules and no calculation anymore\n",
    "    - Defines a context manager that implicitly does not perform gradient updates and does not change requires_grad.\n",
    "    - This is suitable for modules that do not update gradients during the **eval phase** or during the model forward process (these modules only perform feature extraction (forward calculation) and do not perform backward updates).\n",
    "- **param.requires_grad** -> freeze parameters\n",
    "    - Explicitly freeze the gradient updates of some modules (layers)\n",
    "    - layer/module level，\n",
    "    - May be more flexible"
   ]
  },
  {
   "cell_type": "code",
   "execution_count": 1,
   "metadata": {
    "ExecuteTime": {
     "end_time": "2022-06-28T15:06:50.866453Z",
     "start_time": "2022-06-28T15:06:50.863925Z"
    }
   },
   "outputs": [],
   "source": [
    "from transformers import BertModel\n",
    "import torch\n",
    "from torch import nn"
   ]
  },
  {
   "cell_type": "code",
   "execution_count": 9,
   "metadata": {
    "ExecuteTime": {
     "end_time": "2022-06-28T15:10:34.138893Z",
     "start_time": "2022-06-28T15:10:30.552454Z"
    }
   },
   "outputs": [],
   "source": [
    "model_name = 'bert-base-uncased'\n",
    "\n",
    "bert = BertModel.from_pretrained(model_name)"
   ]
  },
  {
   "cell_type": "code",
   "execution_count": 4,
   "metadata": {
    "ExecuteTime": {
     "end_time": "2022-06-28T15:08:11.400841Z",
     "start_time": "2022-06-28T15:08:11.397764Z"
    }
   },
   "outputs": [],
   "source": [
    "def calc_learnable_params(model):\n",
    "    total_param = 0\n",
    "    for name, param in model.named_parameters():\n",
    "        if param.requires_grad:\n",
    "            total_param += param.numel()\n",
    "    return total_param"
   ]
  },
  {
   "cell_type": "code",
   "execution_count": 5,
   "metadata": {
    "ExecuteTime": {
     "end_time": "2022-06-28T15:10:35.508407Z",
     "start_time": "2022-06-28T15:10:35.502720Z"
    }
   },
   "outputs": [
    {
     "data": {
      "text/plain": [
       "109482240"
      ]
     },
     "execution_count": 5,
     "metadata": {},
     "output_type": "execute_result"
    }
   ],
   "source": [
    "calc_learnable_params(bert)"
   ]
  },
  {
   "cell_type": "code",
   "execution_count": 6,
   "metadata": {
    "ExecuteTime": {
     "end_time": "2022-06-28T15:21:30.906385Z",
     "start_time": "2022-06-28T15:21:30.902666Z"
    }
   },
   "outputs": [
    {
     "name": "stdout",
     "output_type": "stream",
     "text": [
      "109482240\n"
     ]
    }
   ],
   "source": [
    "with torch.no_grad():\n",
    "    print(calc_learnable_params(bert))"
   ]
  },
  {
   "cell_type": "code",
   "execution_count": 7,
   "metadata": {
    "ExecuteTime": {
     "end_time": "2022-06-28T15:22:11.486203Z",
     "start_time": "2022-06-28T15:22:11.477806Z"
    }
   },
   "outputs": [],
   "source": [
    "for name, param in bert.named_parameters():\n",
    "    if param.requires_grad:\n",
    "        param.requires_grad = False"
   ]
  },
  {
   "cell_type": "code",
   "execution_count": 8,
   "metadata": {
    "ExecuteTime": {
     "end_time": "2022-06-28T15:22:16.696133Z",
     "start_time": "2022-06-28T15:22:16.690878Z"
    }
   },
   "outputs": [
    {
     "data": {
      "text/plain": [
       "0"
      ]
     },
     "execution_count": 8,
     "metadata": {},
     "output_type": "execute_result"
    }
   ],
   "source": [
    "calc_learnable_params(bert)"
   ]
  }
 ],
 "metadata": {
  "kernelspec": {
   "display_name": "Python 3.10 (bert)",
   "language": "python",
   "name": "py310"
  },
  "language_info": {
   "codemirror_mode": {
    "name": "ipython",
    "version": 3
   },
   "file_extension": ".py",
   "mimetype": "text/x-python",
   "name": "python",
   "nbconvert_exporter": "python",
   "pygments_lexer": "ipython3",
   "version": "3.10.18"
  }
 },
 "nbformat": 4,
 "nbformat_minor": 4
}
