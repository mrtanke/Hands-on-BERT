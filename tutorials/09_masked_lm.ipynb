{
 "cells": [
  {
   "cell_type": "code",
   "execution_count": 1,
   "id": "3deb991e-09a2-44f3-bc5b-9f75d498e677",
   "metadata": {},
   "outputs": [],
   "source": [
    "import torch\n",
    "from torch import nn\n",
    "from transformers.models.bert import BertModel, BertTokenizer, BertForMaskedLM"
   ]
  },
  {
   "cell_type": "markdown",
   "id": "c89bd647-e075-4c1e-8a08-d5563cbd9d42",
   "metadata": {},
   "source": [
    "# 1. Model load and data preprocessing\n",
    "The difference between bert BertModel and **BertForMaskedLM**:\n",
    "- The last layer: pooler -> cls (768 -> 30522)"
   ]
  },
  {
   "cell_type": "code",
   "execution_count": 4,
   "id": "834484c3-f7c3-4b50-9618-a7e017f23755",
   "metadata": {},
   "outputs": [
    {
     "name": "stderr",
     "output_type": "stream",
     "text": [
      "Some weights of the model checkpoint at bert-base-uncased were not used when initializing BertForMaskedLM: ['bert.pooler.dense.bias', 'bert.pooler.dense.weight', 'cls.seq_relationship.bias', 'cls.seq_relationship.weight']\n",
      "- This IS expected if you are initializing BertForMaskedLM from the checkpoint of a model trained on another task or with another architecture (e.g. initializing a BertForSequenceClassification model from a BertForPreTraining model).\n",
      "- This IS NOT expected if you are initializing BertForMaskedLM from the checkpoint of a model that you expect to be exactly identical (initializing a BertForSequenceClassification model from a BertForSequenceClassification model).\n"
     ]
    }
   ],
   "source": [
    "model_type = 'bert-base-uncased'\n",
    "\n",
    "tokenizer = BertTokenizer.from_pretrained(model_type)\n",
    "bert = BertModel.from_pretrained(model_type)\n",
    "mlm = BertForMaskedLM.from_pretrained(model_type, output_hidden_states=True)"
   ]
  },
  {
   "cell_type": "code",
   "execution_count": 9,
   "id": "abb5bdfc-008c-4560-9e30-1102e455f69c",
   "metadata": {},
   "outputs": [
    {
     "data": {
      "text/plain": [
       "['input_ids', 'token_type_ids', 'attention_mask']"
      ]
     },
     "execution_count": 9,
     "metadata": {},
     "output_type": "execute_result"
    }
   ],
   "source": [
    "text = (\"After Abraham Lincoln won the November 1860 presidential \"\n",
    "        \"election on an anti-slavery platform, an initial seven \"\n",
    "        \"slave states declared their secession from the country \"\n",
    "        \"to form the Confederacy. War broke out in April 1861 \"\n",
    "        \"when secessionist forces attacked Fort Sumter in South \"\n",
    "        \"Carolina, just over a month after Lincoln's \"\n",
    "        \"inauguration.\")\n",
    "\n",
    "inputs = tokenizer(text, return_tensors='pt')\n",
    "list(inputs.keys())"
   ]
  },
  {
   "cell_type": "markdown",
   "id": "a1a62d2e-f8c5-4e39-8765-70b5c6337cd0",
   "metadata": {},
   "source": [
    "# 2. Masking"
   ]
  },
  {
   "cell_type": "code",
   "execution_count": 17,
   "id": "ebed6d37-cd48-4228-8dc1-e23d5a7d41e9",
   "metadata": {},
   "outputs": [
    {
     "data": {
      "text/plain": [
       "tensor([[  101,  2044,  8181,  5367,  2180,  1996,  2281,  7313,  4883,  2602,\n",
       "          2006,  2019,  3424,  1011,  8864,  4132,  1010,  2019,  3988,  2698,\n",
       "          6658,  2163,  4161,  2037, 22965,  2013,  1996,  2406,  2000,  2433,\n",
       "          1996, 18179,  1012,  2162,  3631,  2041,  1999,  2258,  6863,  2043,\n",
       "         22965,  2923,  2749,  4457,  3481,  7680,  3334,  1999,  2148,  3792,\n",
       "          1010,  2074,  2058,  1037,  3204,  2044,  5367,  1005,  1055, 17331,\n",
       "          1012,   102]])"
      ]
     },
     "execution_count": 17,
     "metadata": {},
     "output_type": "execute_result"
    }
   ],
   "source": [
    "inputs['labels'] = inputs['input_ids'].detach().clone() \n",
    "# Detach this tensor from the computation graph (so no gradients will be computed), \n",
    "# and create a copy to avoid in-place modification.\n",
    "\n",
    "inputs['labels']"
   ]
  },
  {
   "cell_type": "code",
   "execution_count": 13,
   "id": "7d0bc1c6-d02b-4ff3-8beb-e5e68f758f53",
   "metadata": {},
   "outputs": [
    {
     "data": {
      "text/plain": [
       "tensor([[False, False, False,  True, False, False, False, False, False, False,\n",
       "         False,  True, False,  True, False, False, False,  True, False, False,\n",
       "         False, False, False, False, False, False, False, False, False, False,\n",
       "         False, False,  True,  True, False, False, False,  True, False, False,\n",
       "         False, False, False,  True,  True, False, False, False, False, False,\n",
       "         False,  True, False,  True, False, False,  True, False, False, False,\n",
       "         False, False]])"
      ]
     },
     "execution_count": 13,
     "metadata": {},
     "output_type": "execute_result"
    }
   ],
   "source": [
    "mask = torch.rand(inputs['input_ids'].shape) < 0.15\n",
    "\n",
    "mask"
   ]
  },
  {
   "cell_type": "code",
   "execution_count": 23,
   "id": "81fcb6f6-0bda-45ae-92a2-948592d515c0",
   "metadata": {},
   "outputs": [
    {
     "data": {
      "text/plain": [
       "tensor([[False,  True,  True, False, False, False, False, False, False, False,\n",
       "         False, False, False, False, False,  True, False,  True,  True, False,\n",
       "         False, False, False, False, False, False, False, False, False, False,\n",
       "         False, False, False, False, False, False, False,  True, False, False,\n",
       "         False, False, False, False, False, False, False, False,  True, False,\n",
       "         False, False, False, False, False,  True, False, False, False,  True,\n",
       "          True, False]])"
      ]
     },
     "execution_count": 23,
     "metadata": {},
     "output_type": "execute_result"
    }
   ],
   "source": [
    "# Keep first, last and 85% token to 'False'\n",
    "mask_arr = (torch.rand(inputs['input_ids'].shape) < 0.15) \\\n",
    "        * (inputs['input_ids'] != 101) \\\n",
    "        * (inputs['input_ids'] != 102)\n",
    "\n",
    "mask_arr"
   ]
  },
  {
   "cell_type": "code",
   "execution_count": 24,
   "id": "16e7c1ff-e63c-42c7-8c53-9125007ac3c9",
   "metadata": {},
   "outputs": [
    {
     "data": {
      "text/plain": [
       "[1, 2, 15, 17, 18, 37, 48, 55, 59, 60]"
      ]
     },
     "execution_count": 24,
     "metadata": {},
     "output_type": "execute_result"
    }
   ],
   "source": [
    "# Find all the index whose value is 'True'\n",
    "selection = torch.flatten(mask_arr[0].nonzero()).tolist()\n",
    "\n",
    "selection"
   ]
  },
  {
   "cell_type": "code",
   "execution_count": 25,
   "id": "2c8cd1e5-8133-41dd-b0b2-9414bf8ad824",
   "metadata": {},
   "outputs": [
    {
     "data": {
      "text/plain": [
       "{'unk_token': '[UNK]',\n",
       " 'sep_token': '[SEP]',\n",
       " 'pad_token': '[PAD]',\n",
       " 'cls_token': '[CLS]',\n",
       " 'mask_token': '[MASK]'}"
      ]
     },
     "execution_count": 25,
     "metadata": {},
     "output_type": "execute_result"
    }
   ],
   "source": [
    "tokenizer.special_tokens_map"
   ]
  },
  {
   "cell_type": "code",
   "execution_count": 26,
   "id": "81c3f518-9354-4ad1-9c1b-a1eead5f065f",
   "metadata": {},
   "outputs": [
    {
     "data": {
      "text/plain": [
       "103"
      ]
     },
     "execution_count": 26,
     "metadata": {},
     "output_type": "execute_result"
    }
   ],
   "source": [
    "tokenizer.vocab['[MASK]']"
   ]
  },
  {
   "cell_type": "code",
   "execution_count": 28,
   "id": "b2568995-dffb-486f-84aa-0caa90dd5961",
   "metadata": {},
   "outputs": [
    {
     "data": {
      "text/plain": [
       "{'input_ids': tensor([[  101,   103,   103,  5367,  2180,  1996,  2281,  7313,  4883,  2602,\n",
       "          2006,  2019,  3424,  1011,  8864,   103,  1010,   103,   103,  2698,\n",
       "          6658,  2163,  4161,  2037, 22965,  2013,  1996,  2406,  2000,  2433,\n",
       "          1996, 18179,  1012,  2162,  3631,  2041,  1999,   103,  6863,  2043,\n",
       "         22965,  2923,  2749,  4457,  3481,  7680,  3334,  1999,   103,  3792,\n",
       "          1010,  2074,  2058,  1037,  3204,   103,  5367,  1005,  1055,   103,\n",
       "           103,   102]]), 'token_type_ids': tensor([[0, 0, 0, 0, 0, 0, 0, 0, 0, 0, 0, 0, 0, 0, 0, 0, 0, 0, 0, 0, 0, 0, 0, 0,\n",
       "         0, 0, 0, 0, 0, 0, 0, 0, 0, 0, 0, 0, 0, 0, 0, 0, 0, 0, 0, 0, 0, 0, 0, 0,\n",
       "         0, 0, 0, 0, 0, 0, 0, 0, 0, 0, 0, 0, 0, 0]]), 'attention_mask': tensor([[1, 1, 1, 1, 1, 1, 1, 1, 1, 1, 1, 1, 1, 1, 1, 1, 1, 1, 1, 1, 1, 1, 1, 1,\n",
       "         1, 1, 1, 1, 1, 1, 1, 1, 1, 1, 1, 1, 1, 1, 1, 1, 1, 1, 1, 1, 1, 1, 1, 1,\n",
       "         1, 1, 1, 1, 1, 1, 1, 1, 1, 1, 1, 1, 1, 1]]), 'labels': tensor([[  101,  2044,  8181,  5367,  2180,  1996,  2281,  7313,  4883,  2602,\n",
       "          2006,  2019,  3424,  1011,  8864,  4132,  1010,  2019,  3988,  2698,\n",
       "          6658,  2163,  4161,  2037, 22965,  2013,  1996,  2406,  2000,  2433,\n",
       "          1996, 18179,  1012,  2162,  3631,  2041,  1999,  2258,  6863,  2043,\n",
       "         22965,  2923,  2749,  4457,  3481,  7680,  3334,  1999,  2148,  3792,\n",
       "          1010,  2074,  2058,  1037,  3204,  2044,  5367,  1005,  1055, 17331,\n",
       "          1012,   102]])}"
      ]
     },
     "execution_count": 28,
     "metadata": {},
     "output_type": "execute_result"
    }
   ],
   "source": [
    "inputs['input_ids'][0, selection] = 103\n",
    "\n",
    "# There are lots of locations in input_ids be valued to '103'\n",
    "# labels are the real ids\n",
    "inputs"
   ]
  },
  {
   "cell_type": "markdown",
   "id": "19b2e88b-78cd-42e6-bbf0-d6d28de6099f",
   "metadata": {},
   "source": [
    "### Compare input\\_id and labels"
   ]
  },
  {
   "cell_type": "code",
   "execution_count": 31,
   "id": "b61c9d78-4261-444e-a959-36ad2d170257",
   "metadata": {},
   "outputs": [
    {
     "data": {
      "text/plain": [
       "\"[CLS] [MASK] [MASK] lincoln won the november 1860 presidential election on an anti - slavery [MASK] , [MASK] [MASK] seven slave states declared their secession from the country to form the confederacy . war broke out in [MASK] 1861 when secession ##ist forces attacked fort sum ##ter in [MASK] carolina , just over a month [MASK] lincoln ' s [MASK] [MASK] [SEP]\""
      ]
     },
     "execution_count": 31,
     "metadata": {},
     "output_type": "execute_result"
    }
   ],
   "source": [
    "' '.join(tokenizer.convert_ids_to_tokens(inputs['input_ids'][0]))"
   ]
  },
  {
   "cell_type": "code",
   "execution_count": 32,
   "id": "703f1da4-4a72-4e94-8271-61636907db06",
   "metadata": {},
   "outputs": [
    {
     "data": {
      "text/plain": [
       "\"[CLS] after abraham lincoln won the november 1860 presidential election on an anti - slavery platform , an initial seven slave states declared their secession from the country to form the confederacy . war broke out in april 1861 when secession ##ist forces attacked fort sum ##ter in south carolina , just over a month after lincoln ' s inauguration . [SEP]\""
      ]
     },
     "execution_count": 32,
     "metadata": {},
     "output_type": "execute_result"
    }
   ],
   "source": [
    "' '.join(tokenizer.convert_ids_to_tokens(inputs['labels'][0]))"
   ]
  },
  {
   "cell_type": "markdown",
   "id": "705f9d44-5723-499a-991b-d6798370c4a3",
   "metadata": {},
   "source": [
    "# 3. Forward and calculate loss"
   ]
  },
  {
   "cell_type": "code",
   "execution_count": 33,
   "id": "b5cab91f-5c5a-46b9-9528-d2b446851879",
   "metadata": {},
   "outputs": [],
   "source": [
    "mlm.eval()\n",
    "\n",
    "with torch.no_grad():\n",
    "    output = mlm(**inputs)"
   ]
  },
  {
   "cell_type": "code",
   "execution_count": 34,
   "id": "29528846-a37b-4214-a003-7e654cbc35db",
   "metadata": {},
   "outputs": [
    {
     "data": {
      "text/plain": [
       "odict_keys(['loss', 'logits', 'hidden_states'])"
      ]
     },
     "execution_count": 34,
     "metadata": {},
     "output_type": "execute_result"
    }
   ],
   "source": [
    "output.keys()"
   ]
  },
  {
   "cell_type": "markdown",
   "id": "42de1f0b-7bf3-4992-8fe2-fbdce68bba9e",
   "metadata": {},
   "source": [
    "### Check all the three parameters\n",
    "- loss\n",
    "- logits\n",
    "- hidden_states"
   ]
  },
  {
   "cell_type": "code",
   "execution_count": 35,
   "id": "b0a08e36-2677-4066-b11c-1cdfc9973162",
   "metadata": {},
   "outputs": [
    {
     "data": {
      "text/plain": [
       "tensor([[[ -7.2286,  -7.1346,  -7.1977,  ...,  -6.3683,  -6.3470,  -4.4159],\n",
       "         [ -6.6458,  -7.0763,  -6.5377,  ...,  -5.2213,  -6.5514,  -9.1078],\n",
       "         [ -7.0408,  -7.1989,  -6.7861,  ...,  -6.6813,  -5.6614,  -8.3547],\n",
       "         ...,\n",
       "         [ -4.1758,  -4.2652,  -4.1038,  ...,  -2.3127,  -4.2239,  -6.1054],\n",
       "         [ -8.7734,  -8.5920,  -8.8917,  ...,  -8.0200,  -8.9393,  -3.6660],\n",
       "         [-12.9003, -13.3303, -13.1156,  ..., -11.2309, -10.8652,  -7.8950]]])"
      ]
     },
     "execution_count": 35,
     "metadata": {},
     "output_type": "execute_result"
    }
   ],
   "source": [
    "output.logits"
   ]
  },
  {
   "cell_type": "code",
   "execution_count": 36,
   "id": "ba5eda10-cc72-47b8-8b52-31ecf40451f0",
   "metadata": {},
   "outputs": [
    {
     "data": {
      "text/plain": [
       "tensor(1.1040)"
      ]
     },
     "execution_count": 36,
     "metadata": {},
     "output_type": "execute_result"
    }
   ],
   "source": [
    "output.loss"
   ]
  },
  {
   "cell_type": "code",
   "execution_count": 42,
   "id": "20ed4d48-f46d-4b9f-8f91-ef29365d93aa",
   "metadata": {},
   "outputs": [
    {
     "data": {
      "text/plain": [
       "13"
      ]
     },
     "execution_count": 42,
     "metadata": {},
     "output_type": "execute_result"
    }
   ],
   "source": [
    "# num of hidden_states(13) = num of encoders(12) + embedding output(1)\n",
    "len(output.hidden_states)"
   ]
  },
  {
   "cell_type": "markdown",
   "id": "ef28b117-d368-4feb-9daf-d0e27edaca3c",
   "metadata": {},
   "source": [
    "# 4. From scratch"
   ]
  },
  {
   "cell_type": "code",
   "execution_count": 47,
   "id": "3cd0ebf8-9c36-4c8a-bccb-f193aa6f76ea",
   "metadata": {},
   "outputs": [
    {
     "data": {
      "text/plain": [
       "tensor([[[ -7.2286,  -7.1346,  -7.1977,  ...,  -6.3683,  -6.3470,  -4.4159],\n",
       "         [ -6.6458,  -7.0763,  -6.5377,  ...,  -5.2213,  -6.5514,  -9.1078],\n",
       "         [ -7.0408,  -7.1989,  -6.7861,  ...,  -6.6813,  -5.6614,  -8.3547],\n",
       "         ...,\n",
       "         [ -4.1758,  -4.2652,  -4.1038,  ...,  -2.3127,  -4.2239,  -6.1054],\n",
       "         [ -8.7734,  -8.5920,  -8.8917,  ...,  -8.0200,  -8.9393,  -3.6660],\n",
       "         [-12.9003, -13.3303, -13.1156,  ..., -11.2309, -10.8652,  -7.8950]]],\n",
       "       grad_fn=<ViewBackward0>)"
      ]
     },
     "execution_count": 47,
     "metadata": {},
     "output_type": "execute_result"
    }
   ],
   "source": [
    "# Get the last layer of hidden_states, that is the input of the mlm layer\n",
    "mlm.cls(output['hidden_states'][-1])"
   ]
  },
  {
   "cell_type": "code",
   "execution_count": 48,
   "id": "0161cb13-861e-4f64-808c-6a0d9025a6aa",
   "metadata": {},
   "outputs": [
    {
     "data": {
      "text/plain": [
       "tensor([[[ -7.2286,  -7.1346,  -7.1977,  ...,  -6.3683,  -6.3470,  -4.4159],\n",
       "         [ -6.6458,  -7.0763,  -6.5377,  ...,  -5.2213,  -6.5514,  -9.1078],\n",
       "         [ -7.0408,  -7.1989,  -6.7861,  ...,  -6.6813,  -5.6614,  -8.3547],\n",
       "         ...,\n",
       "         [ -4.1758,  -4.2652,  -4.1038,  ...,  -2.3127,  -4.2239,  -6.1054],\n",
       "         [ -8.7734,  -8.5920,  -8.8917,  ...,  -8.0200,  -8.9393,  -3.6660],\n",
       "         [-12.9003, -13.3303, -13.1156,  ..., -11.2309, -10.8652,  -7.8950]]])"
      ]
     },
     "execution_count": 48,
     "metadata": {},
     "output_type": "execute_result"
    }
   ],
   "source": [
    "output.logits"
   ]
  },
  {
   "cell_type": "code",
   "execution_count": 49,
   "id": "5720ad93-17ac-4c24-93f9-a95d34687dd6",
   "metadata": {},
   "outputs": [],
   "source": [
    "last_hidden_state = output['hidden_states'][-1]"
   ]
  },
  {
   "cell_type": "code",
   "execution_count": 50,
   "id": "929b4a67-53c6-4fa0-8e21-5d65a5174aa6",
   "metadata": {},
   "outputs": [
    {
     "data": {
      "text/plain": [
       "tensor([[[ -7.2286,  -7.1346,  -7.1977,  ...,  -6.3683,  -6.3470,  -4.4159],\n",
       "         [ -6.6458,  -7.0763,  -6.5377,  ...,  -5.2213,  -6.5514,  -9.1078],\n",
       "         [ -7.0408,  -7.1989,  -6.7861,  ...,  -6.6813,  -5.6614,  -8.3547],\n",
       "         ...,\n",
       "         [ -4.1758,  -4.2652,  -4.1038,  ...,  -2.3127,  -4.2239,  -6.1054],\n",
       "         [ -8.7734,  -8.5920,  -8.8917,  ...,  -8.0200,  -8.9393,  -3.6660],\n",
       "         [-12.9003, -13.3303, -13.1156,  ..., -11.2309, -10.8652,  -7.8950]]])"
      ]
     },
     "execution_count": 50,
     "metadata": {},
     "output_type": "execute_result"
    }
   ],
   "source": [
    "mlm.eval()\n",
    "\n",
    "with torch.no_grad():\n",
    "    transformed = mlm.cls.predictions.transform(last_hidden_state)\n",
    "    logits = mlm.cls.predictions.decoder(transformed)\n",
    "\n",
    "logits"
   ]
  },
  {
   "cell_type": "code",
   "execution_count": 54,
   "id": "df0d07f9-a403-4e4b-bcba-9bcf9cdac850",
   "metadata": {},
   "outputs": [
    {
     "data": {
      "text/plain": [
       "tensor(1.1040)"
      ]
     },
     "execution_count": 54,
     "metadata": {},
     "output_type": "execute_result"
    }
   ],
   "source": [
    "output.loss"
   ]
  },
  {
   "cell_type": "markdown",
   "id": "26fd0e11-e847-4efe-83ae-5968f54e7799",
   "metadata": {},
   "source": [
    "# 5. Loss and translate"
   ]
  },
  {
   "cell_type": "code",
   "execution_count": 51,
   "id": "023030b1-9115-4093-87d3-a4cd6c27dfd9",
   "metadata": {},
   "outputs": [],
   "source": [
    "ce = nn.CrossEntropyLoss()"
   ]
  },
  {
   "cell_type": "code",
   "execution_count": 52,
   "id": "f33070b7-08ad-4809-9a2b-88f96e34abee",
   "metadata": {},
   "outputs": [
    {
     "data": {
      "text/plain": [
       "torch.Size([1, 62, 30522])"
      ]
     },
     "execution_count": 52,
     "metadata": {},
     "output_type": "execute_result"
    }
   ],
   "source": [
    "logits.shape"
   ]
  },
  {
   "cell_type": "code",
   "execution_count": 53,
   "id": "24c7b1ab-9602-49b2-ac0b-28d7110ee5e5",
   "metadata": {},
   "outputs": [
    {
     "data": {
      "text/plain": [
       "tensor(1.1040)"
      ]
     },
     "execution_count": 53,
     "metadata": {},
     "output_type": "execute_result"
    }
   ],
   "source": [
    "ce(logits[0], inputs['labels'][0].view(-1))"
   ]
  },
  {
   "cell_type": "markdown",
   "id": "a27ab426-dd79-4939-8b05-d3d4128b2acb",
   "metadata": {},
   "source": [
    "### Compare \n",
    "- initial -> input_ids\n",
    "- before model -> logits[0]\n",
    "- after model -> labels"
   ]
  },
  {
   "cell_type": "code",
   "execution_count": 55,
   "id": "dec23603-9cf2-4e55-a258-3ef7bc9c1d35",
   "metadata": {},
   "outputs": [
    {
     "data": {
      "text/plain": [
       "\"[CLS] [MASK] [MASK] lincoln won the november 1860 presidential election on an anti - slavery [MASK] , [MASK] [MASK] seven slave states declared their secession from the country to form the confederacy . war broke out in [MASK] 1861 when secession ##ist forces attacked fort sum ##ter in [MASK] carolina , just over a month [MASK] lincoln ' s [MASK] [MASK] [SEP]\""
      ]
     },
     "execution_count": 55,
     "metadata": {},
     "output_type": "execute_result"
    }
   ],
   "source": [
    "' '.join(tokenizer.convert_ids_to_tokens(inputs['input_ids'][0]))"
   ]
  },
  {
   "cell_type": "code",
   "execution_count": 56,
   "id": "35c173be-3eec-4e16-835d-f42b265707e7",
   "metadata": {},
   "outputs": [
    {
     "data": {
      "text/plain": [
       "'. when abraham lincoln won the november 1860 presidential election on an anti - slavery platform , and the seven slave states declared their secession from the country to form the confederacy . war broke erupted in august 1861 when secession ##ist forces attacked fort sum ##ter in south carolina , just over a month after lincoln s s inauguration . )'"
      ]
     },
     "execution_count": 56,
     "metadata": {},
     "output_type": "execute_result"
    }
   ],
   "source": [
    "' '.join(tokenizer.convert_ids_to_tokens(torch.argmax(logits[0], dim=1)))"
   ]
  },
  {
   "cell_type": "code",
   "execution_count": 57,
   "id": "e83a535b-3c54-4cca-9e21-3395f38e357a",
   "metadata": {},
   "outputs": [
    {
     "data": {
      "text/plain": [
       "\"[CLS] after abraham lincoln won the november 1860 presidential election on an anti - slavery platform , an initial seven slave states declared their secession from the country to form the confederacy . war broke out in april 1861 when secession ##ist forces attacked fort sum ##ter in south carolina , just over a month after lincoln ' s inauguration . [SEP]\""
      ]
     },
     "execution_count": 57,
     "metadata": {},
     "output_type": "execute_result"
    }
   ],
   "source": [
    "' '.join(tokenizer.convert_ids_to_tokens(inputs['labels'][0]))"
   ]
  }
 ],
 "metadata": {
  "kernelspec": {
   "display_name": "Python 3.10 (bert)",
   "language": "python",
   "name": "py310"
  },
  "language_info": {
   "codemirror_mode": {
    "name": "ipython",
    "version": 3
   },
   "file_extension": ".py",
   "mimetype": "text/x-python",
   "name": "python",
   "nbconvert_exporter": "python",
   "pygments_lexer": "ipython3",
   "version": "3.10.18"
  }
 },
 "nbformat": 4,
 "nbformat_minor": 5
}
