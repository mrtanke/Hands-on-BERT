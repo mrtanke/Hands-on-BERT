{
 "cells": [
  {
   "cell_type": "markdown",
   "id": "c2d35f02-849b-4441-8a62-45c1872aa9d3",
   "metadata": {},
   "source": [
    "# 1. Load model"
   ]
  },
  {
   "cell_type": "code",
   "execution_count": 1,
   "id": "c90387ec-b3b4-472b-b8ba-740d0198a5c2",
   "metadata": {},
   "outputs": [],
   "source": [
    "from transformers import BertTokenizer"
   ]
  },
  {
   "cell_type": "code",
   "execution_count": 6,
   "id": "4d481595-82b1-45bc-b2ae-5cec20861e4b",
   "metadata": {},
   "outputs": [
    {
     "data": {
      "text/plain": [
       "BertTokenizer(name_or_path='bert-base-uncased', vocab_size=30522, model_max_length=512, is_fast=False, padding_side='right', truncation_side='right', special_tokens={'unk_token': '[UNK]', 'sep_token': '[SEP]', 'pad_token': '[PAD]', 'cls_token': '[CLS]', 'mask_token': '[MASK]'}, clean_up_tokenization_spaces=True, added_tokens_decoder={\n",
       "\t0: AddedToken(\"[PAD]\", rstrip=False, lstrip=False, single_word=False, normalized=False, special=True),\n",
       "\t100: AddedToken(\"[UNK]\", rstrip=False, lstrip=False, single_word=False, normalized=False, special=True),\n",
       "\t101: AddedToken(\"[CLS]\", rstrip=False, lstrip=False, single_word=False, normalized=False, special=True),\n",
       "\t102: AddedToken(\"[SEP]\", rstrip=False, lstrip=False, single_word=False, normalized=False, special=True),\n",
       "\t103: AddedToken(\"[MASK]\", rstrip=False, lstrip=False, single_word=False, normalized=False, special=True),\n",
       "}\n",
       ")"
      ]
     },
     "execution_count": 6,
     "metadata": {},
     "output_type": "execute_result"
    }
   ],
   "source": [
    "model_name = 'bert-base-uncased'\n",
    "\n",
    "tokenizer = BertTokenizer.from_pretrained(model_name)\n",
    "tokenizer"
   ]
  },
  {
   "cell_type": "code",
   "execution_count": 12,
   "id": "103b9ce0-d131-424c-9f46-2ee82c048c0e",
   "metadata": {},
   "outputs": [
    {
     "data": {
      "text/plain": [
       "({'unk_token': '[UNK]',\n",
       "  'sep_token': '[SEP]',\n",
       "  'pad_token': '[PAD]',\n",
       "  'cls_token': '[CLS]',\n",
       "  'mask_token': '[MASK]'},\n",
       " [100, 102, 0, 101, 103])"
      ]
     },
     "execution_count": 12,
     "metadata": {},
     "output_type": "execute_result"
    }
   ],
   "source": [
    "tokenizer.special_tokens_map, tokenizer.convert_tokens_to_ids(list(tokenizer.special_tokens_map.values()))"
   ]
  },
  {
   "cell_type": "code",
   "execution_count": 29,
   "id": "b861e582-f7f3-4f70-bb5e-89128221a472",
   "metadata": {},
   "outputs": [
    {
     "data": {
      "text/plain": [
       "([101, 100, 102, 0, 101, 103, 102],\n",
       " '[CLS] [UNK] [SEP] [PAD] [CLS] [MASK] [SEP]')"
      ]
     },
     "execution_count": 29,
     "metadata": {},
     "output_type": "execute_result"
    }
   ],
   "source": [
    "tokenizer.encode(list(tokenizer.special_tokens_map.values())), tokenizer.decode([101, 100, 102, 0, 101, 103, 102])"
   ]
  },
  {
   "cell_type": "markdown",
   "id": "b7141ea3-b3ba-4ca5-b771-b102d1457c63",
   "metadata": {},
   "source": [
    "# 2. Learn text corpus\n",
    "\n",
    "Parameters:\n",
    "- newsgroups_train.DESCR -> introduction documentation\n",
    "- newsgroups_train.data -> list of str\n",
    "- newsgroups_train.target -> label of all the data\n",
    "- newsgroups_train.target_names -> category Name"
   ]
  },
  {
   "cell_type": "code",
   "execution_count": 31,
   "id": "db678424-2532-4d53-8645-d494ed5a4ff1",
   "metadata": {},
   "outputs": [],
   "source": [
    "from sklearn.datasets import fetch_20newsgroups"
   ]
  },
  {
   "cell_type": "code",
   "execution_count": 33,
   "id": "ed2a91f1-92b0-4b59-980f-1dfc0cb2abbb",
   "metadata": {},
   "outputs": [],
   "source": [
    "newsgroups_train = fetch_20newsgroups(subset='train')"
   ]
  },
  {
   "cell_type": "code",
   "execution_count": 35,
   "id": "a44aa269-44e6-479e-9a44-53c4636d0430",
   "metadata": {},
   "outputs": [
    {
     "data": {
      "text/plain": [
       "11314"
      ]
     },
     "execution_count": 35,
     "metadata": {},
     "output_type": "execute_result"
    }
   ],
   "source": [
    "len(newsgroups_train.data)"
   ]
  },
  {
   "cell_type": "code",
   "execution_count": 36,
   "id": "7d9d8f4c-e0a7-409e-8a3d-70a9bec612db",
   "metadata": {},
   "outputs": [
    {
     "data": {
      "text/plain": [
       "Counter({np.int64(10): 600,\n",
       "         np.int64(15): 599,\n",
       "         np.int64(8): 598,\n",
       "         np.int64(9): 597,\n",
       "         np.int64(11): 595,\n",
       "         np.int64(7): 594,\n",
       "         np.int64(13): 594,\n",
       "         np.int64(14): 593,\n",
       "         np.int64(5): 593,\n",
       "         np.int64(2): 591,\n",
       "         np.int64(12): 591,\n",
       "         np.int64(3): 590,\n",
       "         np.int64(6): 585,\n",
       "         np.int64(1): 584,\n",
       "         np.int64(4): 578,\n",
       "         np.int64(17): 564,\n",
       "         np.int64(16): 546,\n",
       "         np.int64(0): 480,\n",
       "         np.int64(18): 465,\n",
       "         np.int64(19): 377})"
      ]
     },
     "execution_count": 36,
     "metadata": {},
     "output_type": "execute_result"
    }
   ],
   "source": [
    "from collections import Counter\n",
    "\n",
    "Counter(newsgroups_train.target)"
   ]
  },
  {
   "cell_type": "code",
   "execution_count": 38,
   "id": "9316ed58-8e7b-43cc-9469-b294a08b5d74",
   "metadata": {},
   "outputs": [
    {
     "data": {
      "text/plain": [
       "['alt.atheism',\n",
       " 'comp.graphics',\n",
       " 'comp.os.ms-windows.misc',\n",
       " 'comp.sys.ibm.pc.hardware',\n",
       " 'comp.sys.mac.hardware',\n",
       " 'comp.windows.x',\n",
       " 'misc.forsale',\n",
       " 'rec.autos',\n",
       " 'rec.motorcycles',\n",
       " 'rec.sport.baseball',\n",
       " 'rec.sport.hockey',\n",
       " 'sci.crypt',\n",
       " 'sci.electronics',\n",
       " 'sci.med',\n",
       " 'sci.space',\n",
       " 'soc.religion.christian',\n",
       " 'talk.politics.guns',\n",
       " 'talk.politics.mideast',\n",
       " 'talk.politics.misc',\n",
       " 'talk.religion.misc']"
      ]
     },
     "execution_count": 38,
     "metadata": {},
     "output_type": "execute_result"
    }
   ],
   "source": [
    "newsgroups_train.target_names"
   ]
  },
  {
   "cell_type": "markdown",
   "id": "19089b0d-25b5-4116-a84f-4c76bdabf20a",
   "metadata": {},
   "source": [
    "# 3. Tokenizer Supplement\n",
    "\n",
    "### BERT was originally designed to jointly train MLM and NSP tasks.\n",
    "Different BERT tasks, different processing of tokenizerd.\n",
    "- input_ids, attention_masks\n",
    "    - mask: bert another task -> **mlm(Masked Language Modeling)** -> Word dimension;\n",
    "- encode_plus, token_type_ids\n",
    "    - token_type_ids: 0->first sentence; 1->second sentence;\n",
    "    - sentence pair for bert pre-training task -> **nsp(Next Sentence Predict)** -> Sentence dimension"
   ]
  },
  {
   "cell_type": "code",
   "execution_count": 39,
   "id": "09978f45-3a9b-41df-bf84-b2155f89276d",
   "metadata": {},
   "outputs": [],
   "source": [
    "test_news = newsgroups_train.data[:3]"
   ]
  },
  {
   "cell_type": "code",
   "execution_count": 50,
   "id": "9a04fb40-57bc-45f5-837a-4cb2c9cd7701",
   "metadata": {},
   "outputs": [
    {
     "data": {
      "text/plain": [
       "{'input_ids': [[101, 2013, 1024, 3393, 2099, 2595, 3367, 1030, 11333, 2213, 1012, 8529, 2094, 1012, 3968, 2226, 1006, 2073, 1005, 1055, 2026, 2518, 1007, 3395, 1024, 2054, 2482, 2003, 2023, 999, 1029, 102], [101, 2013, 1024, 3124, 5283, 2080, 1030, 9806, 1012, 1057, 1012, 2899, 1012, 3968, 2226, 1006, 3124, 13970, 2080, 1007, 3395, 1024, 9033, 5119, 8554, 1011, 2345, 2655, 12654, 1024, 2345, 102]], 'token_type_ids': [[0, 0, 0, 0, 0, 0, 0, 0, 0, 0, 0, 0, 0, 0, 0, 0, 0, 0, 0, 0, 0, 0, 0, 0, 0, 0, 0, 0, 0, 0, 0, 0], [0, 0, 0, 0, 0, 0, 0, 0, 0, 0, 0, 0, 0, 0, 0, 0, 0, 0, 0, 0, 0, 0, 0, 0, 0, 0, 0, 0, 0, 0, 0, 0]], 'attention_mask': [[1, 1, 1, 1, 1, 1, 1, 1, 1, 1, 1, 1, 1, 1, 1, 1, 1, 1, 1, 1, 1, 1, 1, 1, 1, 1, 1, 1, 1, 1, 1, 1], [1, 1, 1, 1, 1, 1, 1, 1, 1, 1, 1, 1, 1, 1, 1, 1, 1, 1, 1, 1, 1, 1, 1, 1, 1, 1, 1, 1, 1, 1, 1, 1]]}"
      ]
     },
     "execution_count": 50,
     "metadata": {},
     "output_type": "execute_result"
    }
   ],
   "source": [
    "## single sentence level\n",
    "tokenizer(test_news[0:2], truncation=True, max_length=32)"
   ]
  },
  {
   "cell_type": "code",
   "execution_count": 52,
   "id": "e7c5caf4-7516-42ae-8db1-ab021c310c77",
   "metadata": {},
   "outputs": [
    {
     "name": "stderr",
     "output_type": "stream",
     "text": [
      "Be aware, overflowing tokens are not returned for the setting you have chosen, i.e. sequence pairs with the 'longest_first' truncation strategy. So the returned list will always be empty even if some tokens have been removed.\n"
     ]
    },
    {
     "data": {
      "text/plain": [
       "{'input_ids': [101, 2013, 1024, 3393, 2099, 2595, 3367, 1030, 11333, 2213, 1012, 8529, 2094, 1012, 3968, 2226, 102, 2013, 1024, 3124, 5283, 2080, 1030, 9806, 1012, 1057, 1012, 2899, 1012, 3968, 2226, 102], 'token_type_ids': [0, 0, 0, 0, 0, 0, 0, 0, 0, 0, 0, 0, 0, 0, 0, 0, 0, 1, 1, 1, 1, 1, 1, 1, 1, 1, 1, 1, 1, 1, 1, 1], 'attention_mask': [1, 1, 1, 1, 1, 1, 1, 1, 1, 1, 1, 1, 1, 1, 1, 1, 1, 1, 1, 1, 1, 1, 1, 1, 1, 1, 1, 1, 1, 1, 1, 1]}"
      ]
     },
     "execution_count": 52,
     "metadata": {},
     "output_type": "execute_result"
    }
   ],
   "source": [
    "## sentence pair level\n",
    "tokenizer.encode_plus(text=test_news[0], text_pair=test_news[1], max_length=32, truncation=True)"
   ]
  },
  {
   "cell_type": "code",
   "execution_count": 53,
   "id": "fa1350ac-9508-462c-b1d8-aaa81075a795",
   "metadata": {},
   "outputs": [
    {
     "data": {
      "text/plain": [
       "'[CLS] from : lerxst @ wam. umd. edu [SEP] from : guykuo @ carson. u. washington. edu [SEP]'"
      ]
     },
     "execution_count": 53,
     "metadata": {},
     "output_type": "execute_result"
    }
   ],
   "source": [
    "tokenizer.decode([101, 2013, 1024, 3393, 2099, 2595, 3367, 1030, 11333, 2213, 1012, 8529, 2094, 1012, 3968, 2226, 102, 2013, 1024, 3124, 5283, 2080, 1030, 9806, 1012, 1057, 1012, 2899, 1012, 3968, 2226, 102])"
   ]
  }
 ],
 "metadata": {
  "kernelspec": {
   "display_name": "Python 3.10 (bert)",
   "language": "python",
   "name": "py310"
  },
  "language_info": {
   "codemirror_mode": {
    "name": "ipython",
    "version": 3
   },
   "file_extension": ".py",
   "mimetype": "text/x-python",
   "name": "python",
   "nbconvert_exporter": "python",
   "pygments_lexer": "ipython3",
   "version": "3.10.18"
  }
 },
 "nbformat": 4,
 "nbformat_minor": 5
}
